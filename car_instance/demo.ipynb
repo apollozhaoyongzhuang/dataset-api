{
 "cells": [
  {
   "cell_type": "code",
   "execution_count": 1,
   "metadata": {},
   "outputs": [],
   "source": [
    "import sys\n",
    "sys.path.insert(0, './renderer')\n",
    "sys.path.insert(0, '../')\n",
    "\n",
    "from collections import namedtuple\n",
    "import render_car_instances as rci\n",
    "import utils.utils as uts\n",
    "\n",
    "Setting = namedtuple('Setting', ['image_name', 'data_dir'])\n",
    "setting = Setting('180116_053947113_Camera_5', '/media/samsumg_1tb/ApolloScape/3d_car_instance_sample/')"
   ]
  },
  {
   "cell_type": "code",
   "execution_count": null,
   "metadata": {},
   "outputs": [
    {
     "name": "stderr",
     "output_type": "stream",
     "text": [
      "INFO:root:loading 79 car models\n"
     ]
    }
   ],
   "source": [
    "%matplotlib inline\n",
    "visualizer = rci.CarPoseVisualizer(setting)\n",
    "visualizer.load_car_models()\n",
    "image_vis, mask, depth = visualizer.showAnn(setting.image_name)"
   ]
  },
  {
   "cell_type": "code",
   "execution_count": null,
   "metadata": {},
   "outputs": [],
   "source": []
  }
 ],
 "metadata": {
  "kernelspec": {
   "display_name": "Python 3",
   "language": "python",
   "name": "python3"
  },
  "language_info": {
   "codemirror_mode": {
    "name": "ipython",
    "version": 3
   },
   "file_extension": ".py",
   "mimetype": "text/x-python",
   "name": "python",
   "nbconvert_exporter": "python",
   "pygments_lexer": "ipython3",
   "version": "3.6.4"
  }
 },
 "nbformat": 4,
 "nbformat_minor": 2
}
